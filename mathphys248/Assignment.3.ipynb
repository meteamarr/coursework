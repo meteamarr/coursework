{
 "cells": [
  {
   "cell_type": "markdown",
   "metadata": {},
   "source": [
    "# Assignment 3\n",
    "\n",
    "Due March 20th at **10am**.  Pre-grading will be posted on CourseSpaces once the script is running.  Please save your assignment notebook in your `mp248` repo as `mp248/Assignment.3/Assignment.3.ipynb`. Please keep all output and data files in that  `mp248/Assignment.3` notebook. Add all files that you are asked to generate to your git commit, except the nuclear data files.\n",
    "\n",
    "For each plot that you are asked to make create a `.png` image and add it to your commit. Put the problem number and sub-number in the file name, such as `P1.4.png`.\n",
    "\n",
    "Problem 1 leans heavily on material done in Course Notebook 11 and Lab 11.a and 11.b. In the week March 11 -15 we will provide all the usual help in the labs regarding questions concerning Lab 11.a and 11.b and  Course Notebook 11. However, in the lab March 18th we will not be answering any questions concerning those labs or the assignment to treat students in the Monday and Wednesday lab the same. \n",
    "\n",
    "As a tip, it is strongly recommended to completely finish the labs 11.a and 11.b, as this will be of great help. "
   ]
  },
  {
   "cell_type": "markdown",
   "metadata": {},
   "source": [
    "## 1 Temperature-dependent network solution\n",
    "\n",
    "The goal of this problem is to extend the network solution from Course Notebook 11 to allow the network integration to follow a time-dependent temperature evolution (trajectory). Different T mean different rates in the RHS. \n",
    "\n",
    "#### 1.1 Network with constant rates\n",
    "- Collect the **essential** code components that are required to solve the nuclear network as described in Course Notbook 11, using the `integrate.odeint`, using the rates for $T9=0.09$, $\\rho$ and initial abundances as in the course notebook. \n",
    "- Make a plot of the evolution of the mass fractions (`Y*A`) as a function of time in the time interval `[0,1.e6]`s. Make sure all lines have different linestyle and color, as well as a legend. \n",
    "- Open a  new file called `results.txt` using `open` (check the docstring for the right `mode` option) and write the mass fraction of $^{15}N$ (`n15`) at $t=10,000s$  and $10^6$ in the first two lines of the file, at the end of a formatted statement which each say: `The N15 abundance at t=xxx is: ...` (replace the three dots `...` with the mass fraction value and `xxx` with time in s). "
   ]
  },
  {
   "cell_type": "code",
   "execution_count": 3,
   "metadata": {},
   "outputs": [
    {
     "name": "stdout",
     "output_type": "stream",
     "text": [
      "Populating the interactive namespace from numpy and matplotlib\n"
     ]
    }
   ],
   "source": [
    "%pylab ipympl"
   ]
  },
  {
   "cell_type": "code",
   "execution_count": 4,
   "metadata": {},
   "outputs": [],
   "source": [
    "# read initial abundance file\n",
    "#f.close()\n",
    "f_ini=open('data/iniab1.4E-02As09.ppn')"
   ]
  },
  {
   "cell_type": "code",
   "execution_count": 5,
   "metadata": {},
   "outputs": [],
   "source": [
    "ind=[];elem=[];A=[];X=[]   # we will sort the row items into these three lists\n",
    "for i,line in enumerate(f_ini.readlines()):\n",
    "    a,b,c,d=line.split()\n",
    "    # the first column in the file contains the charge \n",
    "    ind.append(i)  # number; we don't need it, but an index variable \n",
    "    elem.append(b) # would be useful\n",
    "    A.append(c)\n",
    "    X.append(d)"
   ]
  },
  {
   "cell_type": "code",
   "execution_count": 6,
   "metadata": {},
   "outputs": [],
   "source": [
    "# close the file handle!\n",
    "f_ini.close()"
   ]
  },
  {
   "cell_type": "code",
   "execution_count": 7,
   "metadata": {},
   "outputs": [],
   "source": [
    "# \n",
    "X0=array(X,float)\n",
    "A=array(A,float)\n",
    "Y0 = X0/A"
   ]
  },
  {
   "cell_type": "code",
   "execution_count": 8,
   "metadata": {},
   "outputs": [],
   "source": [
    "global rate\n",
    "\n",
    "rate=[7.36E-06]       # C12(p,g)\n",
    "rate.append(3.52E-05) # C13(p,g)\n",
    "rate.append(2.36E-07) # N14(p,g)\n",
    "rate.append(2.03E-02) # N15(p,a)\n",
    "\n",
    "rate = array(rate)\n",
    "#print(rate)"
   ]
  },
  {
   "cell_type": "code",
   "execution_count": 9,
   "metadata": {},
   "outputs": [],
   "source": [
    "def react_terms(y):\n",
    "    terms=[]\n",
    "    terms.append(rate[0]*y[2]*y[0]) # 0 C12(p,g)\n",
    "    terms.append(rate[1]*y[3]*y[0]) # 1 C13(p,g)\n",
    "    terms.append(rate[2]*y[4]*y[0]) # 2 N14(p,g)\n",
    "    terms.append(rate[3]*y[5]*y[0]) # 3 N15(p,a)\n",
    "    return array(terms)"
   ]
  },
  {
   "cell_type": "code",
   "execution_count": 10,
   "metadata": {},
   "outputs": [],
   "source": [
    "def f_rhs(y,t):\n",
    "    '''Provide RHS for CN network equations''' \n",
    "\n",
    "    terms = react_terms(y)\n",
    "    \n",
    "    #print(t)\n",
    "\n",
    "    dh1_dt  =  -terms.sum()\n",
    "    dhe4_dt =   terms[3]\n",
    "    dc12_dt =  -terms[0] + terms[3]\n",
    "    dc13_dt =  -terms[1] + terms[0]\n",
    "    dn14_dt =  -terms[2] + terms[1]\n",
    "    dn15_dt =  -terms[3] + terms[2]\n",
    "    \n",
    "    return array([dh1_dt,dhe4_dt,dc12_dt,dc13_dt,dn14_dt,dn15_dt])"
   ]
  },
  {
   "cell_type": "code",
   "execution_count": 11,
   "metadata": {},
   "outputs": [],
   "source": [
    "# in order to plot the lines of all elements setup a linestyle list\n",
    "linestyles = ['-', '--', '-.', ':']\n",
    "# we only have 4 linestyles, with the modulus function we can get\n",
    "# a linestyle for any i\n",
    "i = randint(100)\n",
    "#print(linestyles[mod(i,4)])"
   ]
  },
  {
   "cell_type": "code",
   "execution_count": 12,
   "metadata": {},
   "outputs": [],
   "source": [
    "dt        = 10000."
   ]
  },
  {
   "cell_type": "code",
   "execution_count": 13,
   "metadata": {},
   "outputs": [],
   "source": [
    "from scipy import integrate"
   ]
  },
  {
   "cell_type": "code",
   "execution_count": 14,
   "metadata": {},
   "outputs": [],
   "source": [
    "t         = arange(0,1 + 1.e6,dt)  \n",
    "markevery = 1"
   ]
  },
  {
   "cell_type": "code",
   "execution_count": 15,
   "metadata": {},
   "outputs": [],
   "source": [
    "Y=integrate.odeint(f_rhs,Y0,t)"
   ]
  },
  {
   "cell_type": "code",
   "execution_count": 16,
   "metadata": {},
   "outputs": [
    {
     "data": {
      "application/vnd.jupyter.widget-view+json": {
       "model_id": "b692a9d37be94136aab0326cd8d436fd",
       "version_major": 2,
       "version_minor": 0
      },
      "text/plain": [
       "FigureCanvasNbAgg()"
      ]
     },
     "metadata": {},
     "output_type": "display_data"
    }
   ],
   "source": [
    "close(1);figure(1)\n",
    "for i in range(len(A)):\n",
    "    plot(t,log10(Y.T[i]*A[i]),label=elem[i]+str(int(A[i])),\\\n",
    "         linestyle=linestyles[mod(i,4)],marker=i+5,markevery=markevery)\n",
    "    \n",
    "    #if i == 5:\n",
    "     #   print(t)\n",
    "      #  print(Y.T[i]*A[i])\n",
    "    \n",
    "legend(loc=4)\n",
    "ylabel('mass fraction');xlabel('time/s');title('mass fraction as a function of time')\n",
    "#ylim(-2e-6,2e-6)\n",
    "\n",
    "pyplot.savefig('P1.1.png')"
   ]
  },
  {
   "cell_type": "code",
   "execution_count": 17,
   "metadata": {},
   "outputs": [],
   "source": [
    "## The N15 abundance at t=xxx is: ...\n",
    "## at t = 10,000 and 10^6\n",
    "\n",
    "i = 5\n",
    "mf = Y.T[i]*A[i]\n",
    "#print(len(mf))\n",
    "#print(mf[100])\n",
    "\n",
    "\n",
    "file = open('results.txt','w')\n",
    "file.write(\"The N15 abundance at t=10000 is: \")\n",
    "file.write(str(mf[1]))\n",
    "file.write('\\n')\n",
    "file.write(\"The N15 abundance at t=1e6 is: \")\n",
    "file.write(str(mf[100]))\n",
    "\n",
    "file.close()"
   ]
  },
  {
   "cell_type": "markdown",
   "metadata": {},
   "source": [
    "#### 1.2 Trajectory file\n",
    "- Read file `T-evol.dat` using numpy's `loadtxt` method and combine all data read from the file into one dictionary `traj_data`, so that you can access it like this: `traj_data['T9']` and likewise for key `'time'`. \n",
    "- Plot temperature as a function of time. Use log scale when appropriate. \n",
    "- Using python commands (don't copy and paste!) open again the file `results.txt` (assuming you have closed it previously) and add as the third line the first values of time and temperature contained in the file `T-evol.dat` using the dictionary `traj_data`. Again, check the docstring of the `write` method what `mode=` option is needed to append, and recall that the sting `'\\n'` is interpreted as a newline. "
   ]
  },
  {
   "cell_type": "code",
   "execution_count": 18,
   "metadata": {},
   "outputs": [
    {
     "data": {
      "application/vnd.jupyter.widget-view+json": {
       "model_id": "ff5d2d2f27584c8ebae9bebf839c12d5",
       "version_major": 2,
       "version_minor": 0
      },
      "text/plain": [
       "FigureCanvasNbAgg()"
      ]
     },
     "metadata": {},
     "output_type": "display_data"
    }
   ],
   "source": [
    "close(2);figure(2)\n",
    "traj_data = {'time': '', 'T9': ''}\n",
    "traj_data['time'],traj_data['T9'] = loadtxt('data/T-evol.dat',unpack=True,usecols=(0,1))\n",
    "plot(traj_data['time'],log(traj_data['T9']))\n",
    "xlabel('time')\n",
    "ylabel('log(T9)')\n",
    "title('T-evol data')\n",
    "\n",
    "file = open('results.txt','a')\n",
    "file.write('\\n')\n",
    "file.write(str(traj_data['time'][0]))\n",
    "file.write(' ')\n",
    "file.write(str(traj_data['T9'][0]))\n",
    "file.write('\\n')\n",
    "\n",
    "file.close()\n",
    "\n",
    "pyplot.savefig('P1.2.png')"
   ]
  },
  {
   "cell_type": "markdown",
   "metadata": {},
   "source": [
    "#### 1.3 Trajectory interpolation\n",
    "For the integration we need the temperature at any time the solver decides to request. \n",
    "- Use scipy's `interpolate.interp1d` to set up an interpolation function called `T9int`  for `T9` that returns for any time within the limits of the trajectory the  temperature and density, using the linear interpolation option. Make sure your interpolation function has the extrapolation option turned on.\n",
    "- Add the output of that function for `t=1.5e+4` and `t=2.9e+7` to the file `results.txt`. \n",
    "    "
   ]
  },
  {
   "cell_type": "code",
   "execution_count": 19,
   "metadata": {},
   "outputs": [],
   "source": [
    "from scipy import interpolate\n",
    "\n",
    "T9int = interpolate.interp1d(traj_data['time'],traj_data['T9'],fill_value='extrapolate')\n",
    "t1 = 1.5e+4\n",
    "T91 = T9int(t1)\n",
    "t2 = 2.7e+7\n",
    "T92 = T9int(t2)\n",
    "\n",
    "file = open('results.txt','a')\n",
    "file.write(str(T91))\n",
    "file.write(' ')\n",
    "file.write(str(T92))\n",
    "file.write('\\n')\n",
    "file.close()"
   ]
  },
  {
   "cell_type": "markdown",
   "metadata": {},
   "source": [
    "#### 1.4 Nuclear data `get_rates` function\n",
    "- Collect the essential code from Lab 11.a that reads the T-dependent reaction rate data and provides the function `get_rates()` to provide for a given input temperature the `rate` list required in the solution above. Be careful what unit the temperature is in. In the trajectory, as indicated in the header, the unit is plain Kelvin, but in the reaction rate files it is in units of $10^9$K, also referred to as `T9`. \n",
    "- Write the output of `str(get_rates(traj_data['T9'][0]))` as another line to the `results.txt` file. "
   ]
  },
  {
   "cell_type": "code",
   "execution_count": 20,
   "metadata": {},
   "outputs": [
    {
     "name": "stdout",
     "output_type": "stream",
     "text": [
      "0.4\n",
      "[3.18, 5.97, 4.77, 45800.0]\n"
     ]
    }
   ],
   "source": [
    "def get_rates(T):\n",
    "    f = np.loadtxt('data/12cpg13n.dat')\n",
    "    filenames = ['data/12cpg13n.dat','data/13cpg14n.dat',\n",
    "                 'data/14npg15o.dat','data/15npa12c.dat']\n",
    "    rates = list()\n",
    "    for file in filenames:\n",
    "        f = np.loadtxt(file)\n",
    "        T9 = list() \n",
    "        adopted = list()\n",
    "        low = list()\n",
    "        high = list()\n",
    "        i = 0\n",
    "        while i < len(f):\n",
    "            T9.append(f[i][0])\n",
    "            adopted.append(f[i][1])\n",
    "            low.append(f[i][2])\n",
    "            high.append(f[i][3])\n",
    "            i = i + 1\n",
    "    \n",
    "        alldata = [T9,adopted,low,high]\n",
    "        j = 0\n",
    "        k = 0\n",
    "        while j < len(alldata[0]):\n",
    "            if alldata[0][j] == T:\n",
    "                k = j\n",
    "            j = j + 1\n",
    "        rates.append(alldata[1][k])\n",
    "    return rates\n",
    "        \n",
    "rates = get_rates(traj_data['T9'][0])\n",
    "print(traj_data['T9'][0])\n",
    "print(rates)\n",
    "\n",
    "\n",
    "file = open('results.txt','a')\n",
    "file.write(str(rates))\n",
    "file.write('\\n')\n",
    "file.close()"
   ]
  },
  {
   "cell_type": "markdown",
   "metadata": {},
   "source": [
    "## 2 Higher-order derivative"
   ]
  },
  {
   "cell_type": "markdown",
   "metadata": {},
   "source": [
    "### In course notebook 5 we introduced a first-order accurate numerical derivative. Review that course notebook material.\n",
    "It is very easy to increase the order of the difference equation to second order, and thereby improve the accuracy. The idea is to take into account one more term of the Taylor expansion, then solve again for $f^\\prime(x)$ as shown below:\n",
    "\n",
    "$$\n",
    "f(x+h) = f(x) + hf^\\prime(x) + \\frac{1}{2}h^2f^{\\prime\\prime}(x)\n",
    "$$\n",
    " and solve for $f^\\prime(x)$ \n",
    "$$\n",
    "f^\\prime(x)  = \\frac{f(x+h) - f(x)}{h}  - \\frac{1}{2}hf^{\\prime\\prime}(x) \n",
    "$$\n",
    "\n",
    "with the second order derivative being approximated to first order by\n",
    "$$\n",
    "f^{\\prime\\prime}(x) \\approx \\frac{f'(x+h) -f'(x)}{h}\n",
    "$$\n",
    "\n",
    "* Implement a function `deriv2` which takes the same arguments as `deriv1` introduced in notebook 5, but implements the first derivative in second-order accurate discretization described above. Test it for the third-order polynomial $f(x) = x^3$ for $x=1$.\n",
    "* Create a convergence test plot as in Figure 2 in notebook 5 that shows the dependence of the residual `log10 (df/dx - 3.0)` as a function of `log10(h)` where `h = 10**npow` and `npow=[0, -1, ..., -10]` for both the first-order and second-order accurate functions `derv1` and `deriv2`.\n",
    "\n",
    "Finally, add to the `results.txt` file the line \n",
    "\n",
    "`Residual first- and second-order for npow=-2: ...` \n",
    "\n",
    "replacing the dots `...` with the two numbers at that value of h for both derivatives."
   ]
  },
  {
   "cell_type": "code",
   "execution_count": 29,
   "metadata": {},
   "outputs": [],
   "source": [
    "def deriv1(f,x,h):\n",
    "    dfdx = (f(x+h) - f(x)) / h\n",
    "    return dfdx\n",
    "\n",
    "def deriv2(f,x,h):\n",
    "    fp1 = (f(x+h) - f(x)) / h\n",
    "    fp2 = (f(x+h+h) - f(x+h)) / h\n",
    "    fpp = (fp2 - fp1)/h\n",
    "    dfdx = fp1 - h*fpp/2.0\n",
    "    return dfdx\n",
    "\n",
    "f = lambda x: x**3\n",
    "x = 1\n",
    "h = 0.1\n",
    "d1 = deriv1(f,x,1)\n",
    "d2 = deriv2(f,x,1)\n",
    "#print(d1)\n",
    "#print(d2)"
   ]
  },
  {
   "cell_type": "code",
   "execution_count": 30,
   "metadata": {},
   "outputs": [
    {
     "data": {
      "application/vnd.jupyter.widget-view+json": {
       "model_id": "5715fa3d42294bf8a3ce47c1e6596356",
       "version_major": 2,
       "version_minor": 0
      },
      "text/plain": [
       "FigureCanvasNbAgg()"
      ]
     },
     "metadata": {},
     "output_type": "display_data"
    }
   ],
   "source": [
    "npow = [-10,-9,-8,-7,-6,-5,-4,-3,-2,-1,0]\n",
    "h = list()\n",
    "for x in npow:\n",
    "    h.append(10**x)\n",
    "    \n",
    "dfdx1 = list()\n",
    "y1 = list()\n",
    "dfdx2 = list()\n",
    "y2 = list()\n",
    "for k in h:\n",
    "    dfdx1.append(deriv1(f,1,k))\n",
    "    dfdx2.append(deriv2(f,1,k))\n",
    "    y1.append(abs(3.0 - deriv1(f,1,k)))\n",
    "    y2.append(abs(3.0 - deriv2(f,1,k)))\n",
    "    \n",
    "#print(y1)\n",
    "\n",
    "close(4);figure(4)\n",
    "plot(log(h),log(y1), 'og', label = 'deriv1')\n",
    "plot(log(h),log(y2), 'ob', label = 'deriv2')\n",
    "xlim(0,-25),xlabel('log(h)'),ylabel('log(3.0 - df/dx)'),title('dependence of the residule on log(h)'),legend()\n",
    "\n",
    "\n",
    "file = open('results.txt','a')\n",
    "file.write(\"Residual first- and second-order for npow=-2: \")\n",
    "file.write(str(y1[8]))\n",
    "file.write(' ')\n",
    "file.write(str(y2[8]))\n",
    "file.write('\\n')\n",
    "file.close()\n",
    "\n",
    "pyplot.savefig('P2.png')"
   ]
  },
  {
   "cell_type": "code",
   "execution_count": null,
   "metadata": {},
   "outputs": [],
   "source": []
  },
  {
   "cell_type": "code",
   "execution_count": null,
   "metadata": {},
   "outputs": [],
   "source": []
  },
  {
   "cell_type": "code",
   "execution_count": null,
   "metadata": {},
   "outputs": [],
   "source": []
  }
 ],
 "metadata": {
  "kernelspec": {
   "display_name": "Python 3",
   "language": "python",
   "name": "python3"
  }
 },
 "nbformat": 4,
 "nbformat_minor": 2
}

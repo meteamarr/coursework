{
 "cells": [
  {
   "cell_type": "markdown",
   "metadata": {},
   "source": [
    "# Assignment 1\n",
    "\n",
    "* **The deadline for this assignment is due on 28 Mon, 10am.**\n",
    "* Create a new directory called `Assignment.1` in your **mp248** repository.\n",
    "* Refer to the **grading key** for guidance for what is expected. \n",
    "* Copy this notebook to the `Assignment.1` folder in your mp248 repository. \n",
    "* Answer Problem 1 using the terminal and Problem 2 in the copy of this notebook in your mp248 repository. This notebook is a _bash_ notebook.\n",
    "* For Problem 3 & 4 create a Python 3 notebook with the name `Assignment-python.ipnb` and make sure that it is located in the `Assignment.1` folder in your `mp248` repository.\n",
    "* Make sure that you add this notebook, the `Assignment-python.ipnb` notebook and any other files indicated below to the final commit of your homework. It is advised that you start committing and pushing once you have partial results."
   ]
  },
  {
   "cell_type": "markdown",
   "metadata": {},
   "source": [
    "## Problem 1\n",
    "\n",
    "### 1.1\n",
    "In a bash cell below download the textfile from the following url: `http://www.textfiles.com/etext/AUTHORS/SHAKESPEARE/shakespeare-midsummer-16.txt` containing _SHAKESPEARE: A Midsummer Night's Dream_ using a shell command. \n",
    "\n",
    "Using the command line editor write a shell script called `shake_analysis.sh` that analyses the file and writes out one answer per line to the following questions:\n",
    "* How many lines contain the word _Lysander_? \n",
    "* How many lines contain the word _Lysander_ and the word _love_? (case sensitive search)\n",
    "* How many words are in the lines that contain the words _Lysander_ and the word _love_?\n",
    "* How large is the file `shakespeare-midsummer-16.txt` in `kB` (kilobyte)? The script should output only the integer number of kB.\n",
    "\n",
    "### 1.2\n",
    "Further add shell script code that generates the answers to the following questions\n",
    "* What is the 6th word in the line that contains both the words _passion_ and _dear_?\n",
    "* How long is that word?\n",
    "\n",
    "Finally, the script should create a file `midsummer_dad.txt` in which all instances of _EGEUS_ and _Egeus_ are replaced with _dad_, and then report the number of times 'dad' appears in `midsummer_dad.txt`.\n",
    "\n",
    "Add the script `shake_analysis.sh` and the file `midsummer_dad.txt` to the `Assignment.1` folder."
   ]
  },
  {
   "cell_type": "markdown",
   "metadata": {},
   "source": [
    "#### Solution"
   ]
  },
  {
   "cell_type": "code",
   "execution_count": 1,
   "metadata": {},
   "outputs": [
    {
     "name": "stderr",
     "output_type": "stream",
     "text": [
      "--2019-05-12 04:13:16--  http://www.textfiles.com/etext/AUTHORS/SHAKESPEARE/shakespeare-midsummer-16.txt\n",
      "Resolving www.textfiles.com (www.textfiles.com)... 208.86.224.90\n",
      "Connecting to www.textfiles.com (www.textfiles.com)|208.86.224.90|:80... connected.\n",
      "HTTP request sent, awaiting response... 200 OK\n",
      "Length: 96439 (94K) [text/plain]\n",
      "Saving to: 'shakespeare-midsummer-16.txt.1'\n",
      "\n",
      "     0K .......... .......... .......... .......... .......... 53%  397K 0s\n",
      "    50K .......... .......... .......... .......... ....      100%  552K=0.2s\n",
      "\n",
      "2019-05-12 04:13:17 (457 KB/s) - 'shakespeare-midsummer-16.txt.1' saved [96439/96439]\n",
      "\n"
     ]
    }
   ],
   "source": [
    "%%bash\n",
    "\n",
    "# 1.1:\n",
    "\n",
    "# to download the file:\n",
    "wget http://www.textfiles.com/etext/AUTHORS/SHAKESPEARE/shakespeare-midsummer-16.txt"
   ]
  },
  {
   "cell_type": "markdown",
   "metadata": {},
   "source": [
    "## Problem 2\n",
    "\n",
    "## 2.1\n",
    "Briefly describe the workflow of modifying files in your git repository and adding them  as a new commit. What command is used to transfer your latest git changes to the GitLab repository. "
   ]
  },
  {
   "cell_type": "code",
   "execution_count": 2,
   "metadata": {},
   "outputs": [],
   "source": [
    "# commands after modifying files:\n",
    "# git add [dirname]\n",
    "# git commit   (the type something and save the file)\n",
    "# git push     (this transfers the latest git changes to the respository)"
   ]
  },
  {
   "cell_type": "markdown",
   "metadata": {},
   "source": [
    "## 2.2\n",
    "1. Create a branch on your repository called `assign1p2`, switch to that branch and add a file called `this_is_a_file_on_my_branch.txt` with the content `Hello World!`. Make sure your branch is pushed to the remote so that it is available on the GitLab server. Once you are done switch back to the master branch and continue there. \n",
    "2. At this point you should still be in the `Assignment.1` folder and you should be on the master branch. Redirect the output of the `git status` command into the file `git_status_A1P2.txt` and add that file to the repository."
   ]
  },
  {
   "cell_type": "markdown",
   "metadata": {},
   "source": [
    "#### Solution"
   ]
  },
  {
   "cell_type": "code",
   "execution_count": 3,
   "metadata": {},
   "outputs": [
    {
     "name": "stderr",
     "output_type": "stream",
     "text": [
      "error: Your local changes to the following files would be overwritten by checkout:\n",
      "\tAssignment.1/Assignment.1.ipynb\n",
      "Please commit your changes or stash them before you switch branches.\n",
      "Aborting\n"
     ]
    }
   ],
   "source": [
    "%%bash\n",
    "\n",
    "# 1.\n",
    "git checkout assign1p2\n",
    "touch this_is_a_file_on_my_branch.txt\n",
    "echo \"Hello World!\" >> this_is_a_file_on_my_branch.txt"
   ]
  },
  {
   "cell_type": "code",
   "execution_count": 4,
   "metadata": {},
   "outputs": [],
   "source": [
    "%%bash\n",
    "\n",
    "# 2.\n",
    "touch git_status_A1P2.txt\n",
    "git status >> git_status_A1P2.txt"
   ]
  },
  {
   "cell_type": "markdown",
   "metadata": {},
   "source": [
    "## Problem 3\n",
    "### 3.1\n",
    "There are some [really long place names](https://www.worldatlas.com/articles/the-10-longest-place-names-in-the-world.html) out there!\n",
    "* Create variables that store the following strings: \n",
    "    - `Llanfairpwllgwyngyllgogerychwyrndrobwllllantysiliogogogoch` \n",
    "    - `Pekwachnamaykoskwaskwaypinwanik`\n",
    "* Describe the slicing and string addition (concatenation) operations needed to create out of these two string variables a new variable that contains the string `airkoskwa`. This is about slicing string variables. You don't need to automatically find the slicing indices, you can just determine them manually by counting.\n",
    "* Create a three-element list that contains the above three strings. Call this list **strlist**. \n",
    "* Create yet another list. Build this list starting from an empty list. Iterating over **strlist**, append the 5th character from each string to this new list.\n",
    "* Print the new list. "
   ]
  },
  {
   "cell_type": "code",
   "execution_count": 5,
   "metadata": {},
   "outputs": [
    {
     "name": "stdout",
     "output_type": "stream",
     "text": [
      "['f', 'a', 'o']\n"
     ]
    }
   ],
   "source": [
    "# 3.1\n",
    "\n",
    "var1 = 'Llanfairpwllgwyngyllgogerychwyrndrobwllllantysiliogogogoch'\n",
    "var2 = 'Pekwachnamaykoskwaskwaypinwanik'\n",
    "\n",
    "# want to get var3 = 'airkoskwa' from these variables\n",
    "# see that the bit 'air' is in var1 indices 5-7 inclusive \n",
    "# we have to add 1 to the set because it goes from [a,b) so if we want b included go from [a,b+1) (a,b integers)\n",
    "air = var1[5:8] # this gives us char's from 5-7 from var1 (slicing)\n",
    "#print(air)\n",
    "# see that the bit 'koskwa' is in var2 indices 12-17 inclusive\n",
    "koskwa = var2[12:18] # this gives us char's from 12-17 from var2 (slicing)\n",
    "#print(koskwa)\n",
    "var3 = air+koskwa # this combines the two strings (string addition)\n",
    "#print(var3)\n",
    "\n",
    "strlist = [var1, var2, var3]\n",
    "#print(strlist)\n",
    "\n",
    "newlist = list()\n",
    "i = 0\n",
    "while i < len(strlist):\n",
    "    newlist.append(strlist[i][4:5])\n",
    "    i = i + 1\n",
    "    \n",
    "print(newlist)"
   ]
  },
  {
   "cell_type": "markdown",
   "metadata": {},
   "source": [
    "### 3.2\n",
    "* Create a list of integers called `ilist`  starting with 4, ending with 28, in steps of 6 (without manually typing the numbers, use some form of list generator)."
   ]
  },
  {
   "cell_type": "markdown",
   "metadata": {},
   "source": [
    "* Turn that list into a numpy array with name `alist` and then create a new array with name `slist` that contains the square of values in `alist`."
   ]
  },
  {
   "cell_type": "markdown",
   "metadata": {},
   "source": [
    "* Open a file `P3.2-data.txt` and write a formatted columns of rows that contain pairwise the `alist` and `slist` elements. Make sure that there are exactly two spaces between the columns. Check the content of the `P3.2-data.txt` file and add it to the commit for this assignment. (Don't close the file yet, we will add more to it.)"
   ]
  },
  {
   "cell_type": "markdown",
   "metadata": {},
   "source": [
    "* Write a function called `fa` that takes an array of numbers and a parameter `q` as an input and returns an array that contains the elements $q \\log a_\\mathrm{i} + q$ where $a_\\mathrm{i}$ are the elements of input array. Write the sum of the array that `fa` returns with `alist` and `q=0.5` as input in a formatted output statement into the file `P3.2-data.txt`. The formatted statement should look exactly like this:\n",
    "    ```txt\n",
    "    The sum of the output array is: i.iii\n",
    "    ```\n",
    "with 3 digits after the decimal point."
   ]
  },
  {
   "cell_type": "code",
   "execution_count": 8,
   "metadata": {},
   "outputs": [],
   "source": [
    "# 3.2\n",
    "import numpy as np\n",
    "\n",
    "ilist = [6*x + 4 for x in range(0,5)]\n",
    "alist = np.array(ilist)\n",
    "slist = alist*alist\n",
    "\n",
    "filename = \"P3.2-data.txt\"\n",
    "file = open(filename, 'w')\n",
    "\n",
    "i = 0\n",
    "while i < len(slist):\n",
    "    file.write(str(alist[i]))\n",
    "    file.write(str('  '))\n",
    "    file.write(str(slist[i]))\n",
    "    file.write('\\n')\n",
    "    i = i + 1\n",
    "    \n",
    "def fa(a, q):\n",
    "    n = len(a)\n",
    "    j = 0\n",
    "    newarr = list()\n",
    "    while j < n:\n",
    "        newarr.append((np.log10(a[j]) + 1.0)*q)\n",
    "        j = j + 1\n",
    "    return newarr\n",
    "\n",
    "args = fa(alist,0.5)\n",
    "j = 0\n",
    "m = 0\n",
    "while j < len(args):\n",
    "    m = m + args[j]\n",
    "    j = j + 1\n",
    "   \n",
    "file.write('The sum of the output array is: %.3f' %m)\n",
    "file.close()"
   ]
  },
  {
   "cell_type": "markdown",
   "metadata": {},
   "source": [
    "## 3.3"
   ]
  },
  {
   "cell_type": "markdown",
   "metadata": {},
   "source": [
    "* You are given a list of fruit. \n",
    "    ```python\n",
    "    list_of_fruit = ['apple', 'banana', 'orange', 'tomato']\n",
    "    ```\n",
    "    Create a Python cell with loop in which the user will be asked for each fruit type how many fruits there are (say, for example, in storage), and how much each fruit costs. Save these numbers as tuples in a dictionary called `fruit_db`. Use the `input` function to implement this. The fruit names are the dictionary keys.\n",
    "* Execute that loop cell and provide some reasonable input.\n",
    "* Then print the fruit database with columns for fruit name, number and cost in a formatted table."
   ]
  },
  {
   "cell_type": "code",
   "execution_count": 11,
   "metadata": {},
   "outputs": [
    {
     "name": "stdout",
     "output_type": "stream",
     "text": [
      "Enter how many apple we have: 4\n",
      "Enter how much an apple is: 5\n",
      "Enter how many banana we have: 3\n",
      "Enter how much an banana is: 6\n",
      "Enter how many orange we have: 4\n",
      "Enter how much an orange is: 5\n",
      "Enter how many tomato we have: 5\n",
      "Enter how much an tomato is: 5\n"
     ]
    }
   ],
   "source": [
    "### 3.3\n",
    "\n",
    "list_of_fruit = ['apple', 'banana', 'orange', 'tomato']\n",
    "\n",
    "fruit_db = {}\n",
    "for x in list_of_fruit:\n",
    "    fruit_db[x] = [0.0]*2\n",
    "    num = input('Enter how many {} we have: '.format(x))\n",
    "    cost = input('Enter how much an {} is: '.format(x))\n",
    "    fruit_db[x][0] = num\n",
    "    fruit_db[x][1] = cost\n",
    "    \n",
    "#print(fruit_db)\n",
    "    "
   ]
  },
  {
   "cell_type": "code",
   "execution_count": 12,
   "metadata": {},
   "outputs": [
    {
     "name": "stdout",
     "output_type": "stream",
     "text": [
      "fruit name  number  cost\n",
      "apple       4       5\n",
      "banana      3       6\n",
      "orange      4       5\n",
      "tomato      5       5\n"
     ]
    }
   ],
   "source": [
    "form = '{0:<12}{1:<8}{2:<1}'\n",
    "print(form.format('fruit name', 'number', 'cost'))\n",
    "i = 0\n",
    "while i < len(list_of_fruit):\n",
    "    fruit = list_of_fruit[i]\n",
    "    print(form.format(fruit, fruit_db[fruit][0], fruit_db[fruit][1]))\n",
    "    i = i + 1"
   ]
  },
  {
   "cell_type": "code",
   "execution_count": null,
   "metadata": {},
   "outputs": [],
   "source": []
  }
 ],
 "metadata": {
  "kernelspec": {
   "display_name": "Python 3",
   "language": "python",
   "name": "python3"
  },
  "language_info": {
   "codemirror_mode": {
    "name": "ipython",
    "version": 3
   },
   "file_extension": ".py",
   "mimetype": "text/x-python",
   "name": "python",
   "nbconvert_exporter": "python",
   "pygments_lexer": "ipython3",
   "version": "3.6.7"
  }
 },
 "nbformat": 4,
 "nbformat_minor": 2
}
